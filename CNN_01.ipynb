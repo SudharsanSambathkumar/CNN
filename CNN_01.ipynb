{
  "nbformat": 4,
  "nbformat_minor": 0,
  "metadata": {
    "colab": {
      "private_outputs": true,
      "provenance": []
    },
    "kernelspec": {
      "name": "python3",
      "display_name": "Python 3"
    },
    "language_info": {
      "name": "python"
    },
    "accelerator": "GPU",
    "gpuClass": "standard"
  },
  "cells": [
    {
      "cell_type": "code",
      "execution_count": null,
      "metadata": {
        "id": "vHWMcVPzCvvi"
      },
      "outputs": [],
      "source": [
        "import numpy as np\n",
        "import pandas as pd\n",
        "from matplotlib import pyplot as plt"
      ]
    },
    {
      "cell_type": "code",
      "source": [
        "import tensorflow as tf\n",
        "from tensorflow import keras"
      ],
      "metadata": {
        "id": "xdnU2vINFH9u"
      },
      "execution_count": null,
      "outputs": []
    },
    {
      "cell_type": "code",
      "source": [
        "fasion_mnist=keras.datasets.fashion_mnist\n",
        "(X_train_full,y_train_full),(X_test,y_test)=fasion_mnist.load_data()"
      ],
      "metadata": {
        "id": "Pv3KFu1mFZmu"
      },
      "execution_count": null,
      "outputs": []
    },
    {
      "cell_type": "code",
      "source": [
        "plt.imshow(X_train_full[5])"
      ],
      "metadata": {
        "id": "IFZBUxuqF57z"
      },
      "execution_count": null,
      "outputs": []
    },
    {
      "cell_type": "code",
      "source": [
        "class_names = [\"T-shirt/top\", \"Trouser\", \"Pullover\", \"Dress\", \"Coat\",\n",
        "               \"Sandal\", \"Shirt\", \"Sneaker\", \"Bag\", \"Ankle boot\"]"
      ],
      "metadata": {
        "id": "o-XyjXJRGCC1"
      },
      "execution_count": null,
      "outputs": []
    },
    {
      "cell_type": "code",
      "source": [
        "X_train_full = X_train_full.reshape((60000, 28, 28, 1))\n",
        "X_test = X_test.reshape((10000, 28, 28, 1))"
      ],
      "metadata": {
        "id": "fWAU_bxRHndG"
      },
      "execution_count": null,
      "outputs": []
    },
    {
      "cell_type": "code",
      "source": [
        "X_train_n=X_train_full/255.0\n",
        "X_test_n=X_test/255.0"
      ],
      "metadata": {
        "id": "c8Ni_Sn8HG7w"
      },
      "execution_count": null,
      "outputs": []
    },
    {
      "cell_type": "code",
      "source": [
        "X_valid, X_train = X_train_n[:5000], X_train_n[5000:]\n",
        "y_valid, y_train = y_train_full[:5000], y_train_full[5000:]\n",
        "X_test = X_test_n"
      ],
      "metadata": {
        "id": "l3ylD1ulHr5S"
      },
      "execution_count": null,
      "outputs": []
    },
    {
      "cell_type": "code",
      "source": [
        "np.random.seed(42)\n",
        "tf.random.set_seed(42)"
      ],
      "metadata": {
        "id": "unJRccFTH6YF"
      },
      "execution_count": null,
      "outputs": []
    },
    {
      "cell_type": "code",
      "source": [
        "model_a = keras.models.Sequential()\n",
        "model_a.add(keras.layers.Conv2D(filters = 32, kernel_size = (3, 3), strides=1, padding='valid', activation='relu', input_shape=(28, 28, 1)))\n",
        "model_a.add(keras.layers.MaxPooling2D((2, 2)))\n",
        "model_a.add(keras.layers.Flatten())\n",
        "model_a.add(keras.layers.Dense(300, activation=\"relu\"))\n",
        "model_a.add(keras.layers.Dense(100, activation=\"relu\"))\n",
        "model_a.add(keras.layers.Dense(10, activation=\"softmax\"))\n",
        "\n",
        "model_b = keras.models.Sequential()\n",
        "model_b.add(keras.layers.Conv2D(filters = 32, kernel_size = (3, 3), strides=1, padding='valid', activation='relu', input_shape=(28, 28, 1)))\n",
        "model_b.add(keras.layers.Flatten())\n",
        "model_b.add(keras.layers.Dense(300, activation=\"relu\"))\n",
        "model_b.add(keras.layers.Dense(100, activation=\"relu\"))\n",
        "model_b.add(keras.layers.Dense(10, activation=\"softmax\"))"
      ],
      "metadata": {
        "id": "-eTMfqseH96f"
      },
      "execution_count": null,
      "outputs": []
    },
    {
      "cell_type": "code",
      "source": [
        "model_a.summary()"
      ],
      "metadata": {
        "id": "ZFLTDhaOJlAI"
      },
      "execution_count": null,
      "outputs": []
    },
    {
      "cell_type": "code",
      "source": [
        "model_b.summary()"
      ],
      "metadata": {
        "id": "YfzyYHNfPHbT"
      },
      "execution_count": null,
      "outputs": []
    },
    {
      "cell_type": "code",
      "source": [
        "model_a.compile(loss=\"sparse_categorical_crossentropy\",\n",
        "              optimizer=\"sgd\",\n",
        "              metrics=[\"accuracy\"])\n",
        "model_b.compile(loss=\"sparse_categorical_crossentropy\",\n",
        "              optimizer=\"sgd\",\n",
        "              metrics=[\"accuracy\"])"
      ],
      "metadata": {
        "id": "Ix2SX8QsJ7UJ"
      },
      "execution_count": null,
      "outputs": []
    },
    {
      "cell_type": "code",
      "source": [
        "model_a.histroy=model_a.fit(X_train,y_train,epochs=10,batch_size=64,validation_data=(X_valid,y_valid))"
      ],
      "metadata": {
        "id": "Uh3SwPnmKMtk"
      },
      "execution_count": null,
      "outputs": []
    },
    {
      "cell_type": "code",
      "source": [
        "model_b.histroy=model_b.fit(X_train,y_train,epochs=10,batch_size=64,validation_data=(X_valid,y_valid))"
      ],
      "metadata": {
        "id": "TypRstr8QOJU"
      },
      "execution_count": null,
      "outputs": []
    },
    {
      "cell_type": "code",
      "source": [
        "pd.DataFrame(model_a.histroy.history).plot(figsize=(8,5))\n",
        "plt.grid(True)\n",
        "plt.gca().set_ylim(0,1)\n",
        "plt.show()"
      ],
      "metadata": {
        "id": "dHPPsPC4Kidg"
      },
      "execution_count": null,
      "outputs": []
    },
    {
      "cell_type": "code",
      "source": [
        "pd.DataFrame(model_b.histroy.history).plot(figsize=(8,5))\n",
        "plt.grid(True)\n",
        "plt.gca().set_ylim(0,1)\n",
        "plt.show()"
      ],
      "metadata": {
        "id": "xkI89IRUQgbH"
      },
      "execution_count": null,
      "outputs": []
    },
    {
      "cell_type": "code",
      "source": [
        "ev=model_a.evaluate(X_test_n,y_test)\n",
        "ev"
      ],
      "metadata": {
        "id": "FyM6V012MGvu"
      },
      "execution_count": null,
      "outputs": []
    },
    {
      "cell_type": "code",
      "source": [
        "ev=model_b.evaluate(X_test_n,y_test)\n",
        "ev"
      ],
      "metadata": {
        "id": "GKk8OJ5wRWxQ"
      },
      "execution_count": null,
      "outputs": []
    },
    {
      "cell_type": "code",
      "source": [
        "y_pred=X_test[:3]\n",
        "y_pred"
      ],
      "metadata": {
        "id": "NQ2qj17NNQbv"
      },
      "execution_count": null,
      "outputs": []
    },
    {
      "cell_type": "code",
      "source": [
        "X_test[:3]\n",
        "print(plt.imshow(X_test[0].reshape(28,28)))"
      ],
      "metadata": {
        "id": "i1I55iqxNSHL"
      },
      "execution_count": null,
      "outputs": []
    }
  ]
}